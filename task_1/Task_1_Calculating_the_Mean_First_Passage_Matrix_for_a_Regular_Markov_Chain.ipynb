{
 "cells": [
  {
   "cell_type": "markdown",
   "id": "e1976bbb",
   "metadata": {},
   "source": [
    "# Task 1: Calculating the Mean First Passage Matrix for a Regular Markov Chain"
   ]
  },
  {
   "cell_type": "markdown",
   "id": "eabf5c67",
   "metadata": {},
   "source": [
    "**Task description**. The task is to check if a Markov chain is regular, calculate its steady state vector and the mean first passage matrix based on the probability transition matrix.\n",
    "\n",
    "**Steps for Performing the Task:**\n",
    "\n",
    "1. Prove that the Markov chain is regular (for this, enough to verify that ${p^k}$ has only non-zero (positive) entries for some integer $k$);\n",
    "\n",
    "2. Calculate (approximately) the steady state vector $\\alpha$ of the chain by calculation of $P^k$ for enough large $t$;\n",
    "\n",
    "3. Calculate the mean first passage matrix $E$ ."
   ]
  },
  {
   "cell_type": "markdown",
   "id": "a97c2a17",
   "metadata": {},
   "source": [
    "**Student name:** Yan Jingyu"
   ]
  },
  {
   "cell_type": "markdown",
   "id": "15c20eae",
   "metadata": {},
   "source": [
    "## Solution\n",
    "\n",
    "I will use Python's Jupyter notebook to complete this task, in which I will use dependency libraries such as numpy and pandas."
   ]
  },
  {
   "cell_type": "markdown",
   "id": "faf5450f",
   "metadata": {},
   "source": [
    "### 0. Prepare"
   ]
  },
  {
   "cell_type": "markdown",
   "id": "94235ba9",
   "metadata": {},
   "source": [
    "Prepare my personal Markov chain probability transition matrix, Import the required libraries and read the transition matrix P."
   ]
  },
  {
   "cell_type": "code",
   "execution_count": 1,
   "id": "5987508b",
   "metadata": {},
   "outputs": [
    {
     "name": "stdout",
     "output_type": "stream",
     "text": [
      "My transition matrix P = \n",
      "[[0.00000 0.00000 0.00000 0.21064 0.00000 0.18934 0.00000 0.00000 0.27476 0.32526 0.00000]\n",
      " [0.00000 0.23340 0.44311 0.00000 0.00000 0.00000 0.00000 0.00000 0.32348 0.00000 0.00000]\n",
      " [0.50398 0.00000 0.00000 0.00000 0.00000 0.43275 0.00000 0.00000 0.00000 0.00000 0.06327]\n",
      " [0.00000 0.00000 0.49275 0.00000 0.50725 0.00000 0.00000 0.00000 0.00000 0.00000 0.00000]\n",
      " [0.30974 0.00000 0.00000 0.00000 0.00000 0.69026 0.00000 0.00000 0.00000 0.00000 0.00000]\n",
      " [0.02998 0.00000 0.00000 0.00000 0.00000 0.39229 0.00000 0.57774 0.00000 0.00000 0.00000]\n",
      " [0.00000 0.00000 0.00000 0.00000 0.43948 0.00000 0.00000 0.00000 0.00000 0.00000 0.56052]\n",
      " [0.47684 0.00000 0.00000 0.00000 0.00000 0.00000 0.00000 0.00000 0.52316 0.00000 0.00000]\n",
      " [0.48492 0.00000 0.00000 0.00000 0.29683 0.00000 0.00000 0.00000 0.00000 0.21825 0.00000]\n",
      " [0.00000 0.08205 0.36807 0.00000 0.34591 0.00000 0.00000 0.00000 0.00000 0.00000 0.20397]\n",
      " [0.00000 0.00000 0.12319 0.36212 0.12949 0.00000 0.38520 0.00000 0.00000 0.00000 0.00000]]\n"
     ]
    }
   ],
   "source": [
    "import pandas as pd\n",
    "import numpy as np\n",
    "\n",
    "np.set_printoptions(linewidth=200, threshold=1000, suppress=True, formatter={'float': '{:0.5f}'.format})\n",
    "\n",
    "def get_my_transition_matrix(xlsx_file, my_name, num_rows=11, use_cols='C:M', ) -> np.ndarray:\n",
    "    \"\"\"\n",
    "    Read my personal transition matrix from an Excel (xlsx) file.\n",
    "    \"\"\"\n",
    "    df = pd.read_excel(xlsx_file)\n",
    "    row_index = df[df[df.columns[0]] == my_name].index\n",
    "    if row_index.empty:\n",
    "        raise FileNotFoundError(\n",
    "            \"transition matrix does not exist, please check the name is correct.\")\n",
    "\n",
    "    df = pd.read_excel(xlsx_file, usecols=use_cols, skiprows=row_index[0] + 1, nrows=num_rows)\n",
    "\n",
    "    return df.to_numpy()\n",
    "\n",
    "xlsx_filename = \"TaskWorksheets1.xlsx\"\n",
    "my_name = \"Yan Jingyu\"\n",
    "P = get_my_transition_matrix(xlsx_filename, my_name)\n",
    "print(f'My transition matrix P = \\n{P}')"
   ]
  },
  {
   "cell_type": "code",
   "execution_count": 2,
   "id": "5ee88dd2",
   "metadata": {},
   "outputs": [],
   "source": [
    "def get_example_matrix() -> np.ndarray:\n",
    "    data_string = \"\"\"\n",
    "    0.0000 0.0000 0.0000 0.0000 0.0000 0.0000 0.0000 0.0000 0.0000 0.0000 0.0000 0.6471 0.0000 0.3529 0.0000 0.0000 0.0000 0.3786 0.0000 0.0000 0.0000 0.0000 0.0000 0.1072 0.0000 0.0000 0.0000 0.0000 0.0000 0.5142 0.0000 0.0000 0.0000 0.0000 0.0000 0.0000 0.0832 0.1882 0.5169 0.0000 0.0000 0.0000 0.0000 0.0000 0.2116 0.0000 0.3532 0.0000 0.0000 0.0000 0.0518 0.0000 0.0000 0.1502 0.0000 0.0000 0.3496 0.0000 0.0952 0.0000 0.3051 0.0000 0.0000 0.0000 0.0000 0.1197 0.0000 0.0000 0.0000 0.0000 0.0000 0.3114 0.0000 0.0000 0.2638 0.0000 0.0000 0.0000 0.0000 0.1352 0.0000 0.0000 0.0000 0.5226 0.0000 0.0000 0.0000 0.3422 0.0000 0.0000 0.0000 0.0091 0.6572 0.0000 0.3337 0.0000 0.0000 0.0000 0.0000 0.0000 0.0000 0.0000 0.0000 0.0000 0.0000 0.4596 0.0000 0.0000 0.0000 0.0000 0.1501 0.0000 0.0000 0.0000 0.0000 0.0000 0.0000 0.3903 0.0000 0.0000 0.0000 0.1317 0.0000 0.7591 0.0000 0.0000 0.0000 0.0000 0.0000 0.0000 0.0000 0.0000 0.1093 0.0000 0.0000 0.0000 0.0000 0.0000 0.2183 0.0000 0.0000 0.0000 0.0000 0.0000 0.0000 0.2366 0.0000 0.5452 0.0000 0.0000 0.0000 0.0000 0.0000 0.0000 0.6985 0.0000 0.0000 0.0000 0.3015 0.0000 0.0000 0.0000 0.0000 0.0000 0.0000 0.2327 0.0000 0.0000 0.2122 0.2804 0.0000 0.0000 0.0000 0.2747 0.0000 0.0000 0.0000 0.0000 0.0000 0.0000 0.0000 0.0000 0.3387 0.0000 0.0000 0.0000 0.0000 0.0000 0.0021 0.0000 0.0000 0.0000 0.3923 0.0000 0.2669 0.0000 0.5361 0.0000 0.0000 0.3795 0.0000 0.0000 0.0612 0.0000 0.0232 0.0000 0.0000 0.0000 0.0000 0.0000 0.0000 0.0000 0.0000 0.0000 0.0000 0.3084 0.0000 0.0000 0.0000 0.4457 0.0000 0.2145 0.0000 0.0000 0.0314\n",
    "    \"\"\"\n",
    "    data_list = [float(number) for number in data_string.split()]\n",
    "\n",
    "    mat = np.array(data_list).reshape(15, 15)\n",
    "\n",
    "    return mat\n",
    "# P = get_example_matrix()"
   ]
  },
  {
   "cell_type": "markdown",
   "id": "0390f3a5",
   "metadata": {},
   "source": [
    "![](fig1.png)"
   ]
  },
  {
   "cell_type": "markdown",
   "id": "2615a5cf",
   "metadata": {},
   "source": [
    "## 1.  Prove that the Markov chain is regular\n",
    "\n",
    "Prove that the Markov chain is regular (for this, enough to verify that ${p^k}$ has only non-zero (positive) entries for some integer $k$);"
   ]
  },
  {
   "cell_type": "code",
   "execution_count": 3,
   "id": "aef42321",
   "metadata": {},
   "outputs": [
    {
     "name": "stdout",
     "output_type": "stream",
     "text": [
      "P_k Matrix is regular: True\n",
      "\n",
      "P_10 Matrix = \n",
      "[[0.18519 0.00939 0.06518 0.04940 0.10026 0.21578 0.01059 0.12879 0.12038 0.08685 0.02817]\n",
      " [0.18938 0.00952 0.06538 0.04877 0.10008 0.21716 0.01091 0.12490 0.12029 0.08550 0.02812]\n",
      " [0.18772 0.00914 0.06234 0.05088 0.09816 0.21867 0.01075 0.12498 0.12030 0.08956 0.02750]\n",
      " [0.19370 0.00929 0.06394 0.04817 0.09925 0.21553 0.01091 0.12343 0.12321 0.08497 0.02760]\n",
      " [0.18832 0.00914 0.06271 0.05072 0.09936 0.21617 0.01052 0.12407 0.12129 0.09021 0.02748]\n",
      " [0.18758 0.00960 0.06583 0.04972 0.10150 0.21636 0.01058 0.12314 0.11926 0.08811 0.02831]\n",
      " [0.18833 0.00918 0.06284 0.04999 0.09764 0.21915 0.01104 0.12664 0.12057 0.08708 0.02754]\n",
      " [0.18783 0.00939 0.06386 0.04981 0.09796 0.22086 0.01114 0.12606 0.11886 0.08632 0.02790]\n",
      " [0.18845 0.00917 0.06275 0.04991 0.09769 0.21899 0.01089 0.12652 0.12079 0.08720 0.02764]\n",
      " [0.19083 0.00930 0.06384 0.04899 0.09892 0.21705 0.01093 0.12479 0.12167 0.08598 0.02769]\n",
      " [0.18656 0.00940 0.06527 0.04879 0.09995 0.21626 0.01067 0.12861 0.12072 0.08550 0.02828]]\n"
     ]
    }
   ],
   "source": [
    "# Use numpy's matrix_power function.\n",
    "matrix_power = np.linalg.matrix_power\n",
    "\n",
    "def check_transition_matrix_is_regular_steps(P: np.ndarray, k = 10):\n",
    "    \"\"\"\n",
    "    Check if the P matrix from the 1st to the kth power is entirely positive; if it is, then it is regular.\n",
    "    \"\"\"\n",
    "    # Remark the last power matrix\n",
    "    P_k = None\n",
    "    for t in range(1, k + 1):\n",
    "        P_t = matrix_power(P, t)\n",
    "        P_k = P_t\n",
    "        if not (P_t >= 0).all():\n",
    "            return False, P_k\n",
    "    \n",
    "    return True, P_k\n",
    "\n",
    "k = 10\n",
    "ret, P_k = check_transition_matrix_is_regular_steps(P, k)\n",
    "assert ret\n",
    "print(f\"P_k Matrix is regular: {ret}\\n\")\n",
    "print(f'P_{k} Matrix = \\n{P_k}')"
   ]
  },
  {
   "cell_type": "markdown",
   "id": "9d45c551",
   "metadata": {},
   "source": [
    "It is obvious that all entries of $p^{10}$ are positive. So, the chain is regular."
   ]
  },
  {
   "cell_type": "markdown",
   "id": "45509abf",
   "metadata": {},
   "source": [
    "## 2.  Calculate the  steady state vector  $\\alpha$ \n",
    "\n",
    "Calculate (approximately) the steady state vector $\\alpha$ of the chain by calculation of $P^k$ for enough large $t$."
   ]
  },
  {
   "cell_type": "code",
   "execution_count": 4,
   "id": "bd7df297",
   "metadata": {},
   "outputs": [
    {
     "name": "stdout",
     "output_type": "stream",
     "text": [
      "P_50 Matrix = \n",
      "[[0.18793 0.00935 0.06424 0.04970 0.09950 0.21732 0.01075 0.12555 0.12035 0.08739 0.02792]\n",
      " [0.18793 0.00935 0.06424 0.04970 0.09950 0.21732 0.01075 0.12555 0.12035 0.08739 0.02792]\n",
      " [0.18793 0.00935 0.06424 0.04970 0.09950 0.21732 0.01075 0.12555 0.12035 0.08739 0.02792]\n",
      " [0.18793 0.00935 0.06424 0.04970 0.09950 0.21732 0.01075 0.12555 0.12035 0.08739 0.02792]\n",
      " [0.18793 0.00935 0.06424 0.04970 0.09950 0.21732 0.01075 0.12555 0.12035 0.08739 0.02792]\n",
      " [0.18793 0.00935 0.06424 0.04970 0.09950 0.21732 0.01075 0.12555 0.12035 0.08739 0.02792]\n",
      " [0.18793 0.00935 0.06424 0.04970 0.09950 0.21732 0.01075 0.12555 0.12035 0.08739 0.02792]\n",
      " [0.18793 0.00935 0.06424 0.04970 0.09950 0.21732 0.01075 0.12555 0.12035 0.08739 0.02792]\n",
      " [0.18793 0.00935 0.06424 0.04970 0.09950 0.21732 0.01075 0.12555 0.12035 0.08739 0.02792]\n",
      " [0.18793 0.00935 0.06424 0.04970 0.09950 0.21732 0.01075 0.12555 0.12035 0.08739 0.02792]\n",
      " [0.18793 0.00935 0.06424 0.04970 0.09950 0.21732 0.01075 0.12555 0.12035 0.08739 0.02792]]\n"
     ]
    }
   ],
   "source": [
    "# Calculate the t-th power of the P matrix and analyze its results.\n",
    "t = 40\n",
    "P_50 = matrix_power(P, t)\n",
    "print(f'P_50 Matrix = \\n{P_50}')"
   ]
  },
  {
   "cell_type": "markdown",
   "id": "7131b877",
   "metadata": {},
   "source": [
    "Define some methods to check $\\alpha$."
   ]
  },
  {
   "cell_type": "code",
   "execution_count": 5,
   "id": "ddbffe82",
   "metadata": {},
   "outputs": [
    {
     "name": "stdout",
     "output_type": "stream",
     "text": [
      "True\n",
      "alpha is positive\n"
     ]
    }
   ],
   "source": [
    "# Detect whether the probability vector distribution of each row of alpha is consistent.\n",
    "def check_each_row_same_probability(alpha: np.ndarray):\n",
    "    epsilon = 1e-3\n",
    "    return (np.sum(alpha, 1) - 1.0 < epsilon).all()\n",
    "\n",
    "assert check_each_row_same_probability(P_50)\n",
    "\n",
    "# Check alpha are positive\n",
    "print((P_50 >= 0).all())\n",
    "assert (P_50 >= 0).all()\n",
    "print(\"alpha is positive\")"
   ]
  },
  {
   "cell_type": "markdown",
   "id": "1d562571",
   "metadata": {},
   "source": [
    "Check if alpha contains a stable vector."
   ]
  },
  {
   "cell_type": "code",
   "execution_count": 6,
   "id": "6ca4dbdb",
   "metadata": {},
   "outputs": [
    {
     "name": "stdout",
     "output_type": "stream",
     "text": [
      "Rows of Pt for t=40 are equal to an accuracy of 3-4 significance digits\n"
     ]
    }
   ],
   "source": [
    "def check_significance_digits_mae(matrix):\n",
    "    # Initialize an empty array to store the MAE of each row compared with other rows\n",
    "    row_maes = np.zeros((len(matrix), len(matrix)))\n",
    "\n",
    "    # Calculate MAE for each row compared with every other row\n",
    "    for i in range(len(matrix)):\n",
    "        for j in range(len(matrix)):\n",
    "            if i != j:\n",
    "                row_maes[i, j] = np.mean(np.abs(matrix[i] - matrix[j]))\n",
    "\n",
    "    # Calculate the average MAE, ignoring the diagonal (comparison of the row with itself)\n",
    "    np.fill_diagonal(row_maes, np.nan)\n",
    "    average_mae = np.nanmean(row_maes)\n",
    "\n",
    "    # Determine if the average MAE is within the desired precision\n",
    "    accuracy_3_digits = average_mae < 0.001\n",
    "    accuracy_4_digits = average_mae < 0.0001\n",
    "\n",
    "    return accuracy_3_digits and accuracy_4_digits\n",
    "\n",
    "assert check_significance_digits_mae(P_50)\n",
    "print(f\"Rows of Pt for t={t} are equal to an accuracy of 3-4 significance digits\")"
   ]
  },
  {
   "cell_type": "markdown",
   "id": "b2149360",
   "metadata": {},
   "source": [
    "## 2.  Calculate the mean first passage matrix  $𝐸$\n",
    "\n",
    "We calculate the mean first passage matrix $𝐸$ in several steps."
   ]
  },
  {
   "cell_type": "code",
   "execution_count": 7,
   "id": "d8c2045b",
   "metadata": {},
   "outputs": [
    {
     "name": "stdout",
     "output_type": "stream",
     "text": [
      "w = [0.18793 0.00935 0.06424 0.04970 0.09950 0.21732 0.01075 0.12555 0.12035 0.08739 0.02792]\n"
     ]
    }
   ],
   "source": [
    "# w can be taken as approximation of the limiting vector alpha\n",
    "w = P_50[0]\n",
    "print(f'w = {w}')"
   ]
  },
  {
   "cell_type": "code",
   "execution_count": 8,
   "id": "33376785",
   "metadata": {},
   "outputs": [],
   "source": [
    "# Check w = w * P\n",
    "epsilon = 1e-4\n",
    "assert (np.dot(w, P) - w < epsilon).all()"
   ]
  },
  {
   "cell_type": "markdown",
   "id": "8ca8a8a2",
   "metadata": {},
   "source": [
    "So, vector $w$ can be taken as an approximation of the limiting vector $\\alpha$.The mean first passage matrix is calculated using the following formula."
   ]
  },
  {
   "cell_type": "code",
   "execution_count": 9,
   "id": "f3eca356",
   "metadata": {},
   "outputs": [
    {
     "name": "stdout",
     "output_type": "stream",
     "text": [
      "Identity matrix I = \n",
      "[[1.00000 0.00000 0.00000 0.00000 0.00000 0.00000 0.00000 0.00000 0.00000 0.00000 0.00000]\n",
      " [0.00000 1.00000 0.00000 0.00000 0.00000 0.00000 0.00000 0.00000 0.00000 0.00000 0.00000]\n",
      " [0.00000 0.00000 1.00000 0.00000 0.00000 0.00000 0.00000 0.00000 0.00000 0.00000 0.00000]\n",
      " [0.00000 0.00000 0.00000 1.00000 0.00000 0.00000 0.00000 0.00000 0.00000 0.00000 0.00000]\n",
      " [0.00000 0.00000 0.00000 0.00000 1.00000 0.00000 0.00000 0.00000 0.00000 0.00000 0.00000]\n",
      " [0.00000 0.00000 0.00000 0.00000 0.00000 1.00000 0.00000 0.00000 0.00000 0.00000 0.00000]\n",
      " [0.00000 0.00000 0.00000 0.00000 0.00000 0.00000 1.00000 0.00000 0.00000 0.00000 0.00000]\n",
      " [0.00000 0.00000 0.00000 0.00000 0.00000 0.00000 0.00000 1.00000 0.00000 0.00000 0.00000]\n",
      " [0.00000 0.00000 0.00000 0.00000 0.00000 0.00000 0.00000 0.00000 1.00000 0.00000 0.00000]\n",
      " [0.00000 0.00000 0.00000 0.00000 0.00000 0.00000 0.00000 0.00000 0.00000 1.00000 0.00000]\n",
      " [0.00000 0.00000 0.00000 0.00000 0.00000 0.00000 0.00000 0.00000 0.00000 0.00000 1.00000]]\n"
     ]
    }
   ],
   "source": [
    "# Identity matrix I\n",
    "I = np.eye(w.shape[0])\n",
    "print(f\"Identity matrix I = \\n{I}\")"
   ]
  },
  {
   "cell_type": "code",
   "execution_count": 10,
   "id": "0e744f71",
   "metadata": {},
   "outputs": [
    {
     "name": "stdout",
     "output_type": "stream",
     "text": [
      "W = \n",
      "[[0.18793 0.00935 0.06424 0.04970 0.09950 0.21732 0.01075 0.12555 0.12035 0.08739 0.02792]\n",
      " [0.18793 0.00935 0.06424 0.04970 0.09950 0.21732 0.01075 0.12555 0.12035 0.08739 0.02792]\n",
      " [0.18793 0.00935 0.06424 0.04970 0.09950 0.21732 0.01075 0.12555 0.12035 0.08739 0.02792]\n",
      " [0.18793 0.00935 0.06424 0.04970 0.09950 0.21732 0.01075 0.12555 0.12035 0.08739 0.02792]\n",
      " [0.18793 0.00935 0.06424 0.04970 0.09950 0.21732 0.01075 0.12555 0.12035 0.08739 0.02792]\n",
      " [0.18793 0.00935 0.06424 0.04970 0.09950 0.21732 0.01075 0.12555 0.12035 0.08739 0.02792]\n",
      " [0.18793 0.00935 0.06424 0.04970 0.09950 0.21732 0.01075 0.12555 0.12035 0.08739 0.02792]\n",
      " [0.18793 0.00935 0.06424 0.04970 0.09950 0.21732 0.01075 0.12555 0.12035 0.08739 0.02792]\n",
      " [0.18793 0.00935 0.06424 0.04970 0.09950 0.21732 0.01075 0.12555 0.12035 0.08739 0.02792]\n",
      " [0.18793 0.00935 0.06424 0.04970 0.09950 0.21732 0.01075 0.12555 0.12035 0.08739 0.02792]\n",
      " [0.18793 0.00935 0.06424 0.04970 0.09950 0.21732 0.01075 0.12555 0.12035 0.08739 0.02792]]\n"
     ]
    }
   ],
   "source": [
    "# W matrix\n",
    "W = np.tile(w, (w.shape[0], 1))\n",
    "print(f\"W = \\n{W}\")"
   ]
  },
  {
   "cell_type": "code",
   "execution_count": 11,
   "id": "24cb2bd7",
   "metadata": {},
   "outputs": [
    {
     "name": "stdout",
     "output_type": "stream",
     "text": [
      "Diagonal matrix D = \n",
      "[[5.32100 0.00000 0.00000 0.00000 0.00000 0.00000 0.00000 0.00000 0.00000 0.00000 0.00000]\n",
      " [0.00000 106.91190 0.00000 0.00000 0.00000 0.00000 0.00000 0.00000 0.00000 0.00000 0.00000]\n",
      " [0.00000 0.00000 15.56705 0.00000 0.00000 0.00000 0.00000 0.00000 0.00000 0.00000 0.00000]\n",
      " [0.00000 0.00000 0.00000 20.12221 0.00000 0.00000 0.00000 0.00000 0.00000 0.00000 0.00000]\n",
      " [0.00000 0.00000 0.00000 0.00000 10.05008 0.00000 0.00000 0.00000 0.00000 0.00000 0.00000]\n",
      " [0.00000 0.00000 0.00000 0.00000 0.00000 4.60159 0.00000 0.00000 0.00000 0.00000 0.00000]\n",
      " [0.00000 0.00000 0.00000 0.00000 0.00000 0.00000 92.99140 0.00000 0.00000 0.00000 0.00000]\n",
      " [0.00000 0.00000 0.00000 0.00000 0.00000 0.00000 0.00000 7.96487 0.00000 0.00000 0.00000]\n",
      " [0.00000 0.00000 0.00000 0.00000 0.00000 0.00000 0.00000 0.00000 8.30939 0.00000 0.00000]\n",
      " [0.00000 0.00000 0.00000 0.00000 0.00000 0.00000 0.00000 0.00000 0.00000 11.44273 0.00000]\n",
      " [0.00000 0.00000 0.00000 0.00000 0.00000 0.00000 0.00000 0.00000 0.00000 0.00000 35.82032]]\n"
     ]
    }
   ],
   "source": [
    "# Diagonal matrix D\n",
    "D = np.diag(1 / w)\n",
    "print(f\"Diagonal matrix D = \\n{D}\")"
   ]
  },
  {
   "cell_type": "code",
   "execution_count": 12,
   "id": "4276a3a9",
   "metadata": {},
   "outputs": [
    {
     "name": "stdout",
     "output_type": "stream",
     "text": [
      "Fundamental matrix Z = \n",
      "[[0.78786 0.00634 0.06166 0.11870 0.02389 -0.04108 -0.00815 -0.14929 0.02007 0.17324 0.00675]\n",
      " [-0.06473 1.28406 0.43689 -0.07346 -0.13310 -0.21784 -0.02153 -0.25140 0.14572 -0.07664 -0.02797]\n",
      " [0.18647 -0.01700 0.91224 -0.00366 -0.14056 0.19045 -0.00356 -0.01552 -0.08273 -0.04480 0.01867]\n",
      " [-0.06980 -0.02819 0.31210 0.91497 0.23769 0.11288 -0.03270 -0.06034 -0.18021 -0.14942 -0.05698]\n",
      " [0.05176 -0.02063 -0.14424 -0.06611 0.80128 0.46594 -0.03981 0.14364 -0.03765 -0.07877 -0.07542]\n",
      " [-0.00628 -0.01919 -0.14357 -0.07704 -0.15446 1.00829 -0.03843 0.45697 0.11079 -0.06525 -0.07185]\n",
      " [-0.34188 -0.04089 -0.06092 0.09446 0.37441 -0.08223 1.21919 -0.17306 -0.31804 -0.26800 0.59694]\n",
      " [0.27781 -0.00432 -0.04303 -0.00117 0.00852 -0.29201 -0.02139 0.70575 0.32381 0.07364 -0.02761]\n",
      " [0.17216 0.00384 -0.01566 -0.01545 0.18470 -0.10532 -0.01290 -0.18640 0.83068 0.14990 -0.00556]\n",
      " [-0.17100 0.07443 0.28176 -0.01691 0.15932 -0.02927 0.06244 -0.14246 -0.21778 0.80946 0.19001]\n",
      " [-0.31523 -0.04008 0.11902 0.30901 0.21723 -0.12432 0.44144 -0.19737 -0.32318 -0.26045 1.17393]]\n"
     ]
    }
   ],
   "source": [
    "# Fundamental matrix\n",
    "Z = np.linalg.inv(I - (P - W))\n",
    "print(f\"Fundamental matrix Z = \\n{Z}\")"
   ]
  },
  {
   "cell_type": "code",
   "execution_count": 13,
   "id": "f8513e3c",
   "metadata": {},
   "outputs": [
    {
     "name": "stdout",
     "output_type": "stream",
     "text": [
      "J_dg = \n",
      "[[0.78786 1.00000 1.00000 1.00000 1.00000 1.00000 1.00000 1.00000 1.00000 1.00000 1.00000]\n",
      " [1.00000 1.28406 1.00000 1.00000 1.00000 1.00000 1.00000 1.00000 1.00000 1.00000 1.00000]\n",
      " [1.00000 1.00000 0.91224 1.00000 1.00000 1.00000 1.00000 1.00000 1.00000 1.00000 1.00000]\n",
      " [1.00000 1.00000 1.00000 0.91497 1.00000 1.00000 1.00000 1.00000 1.00000 1.00000 1.00000]\n",
      " [1.00000 1.00000 1.00000 1.00000 0.80128 1.00000 1.00000 1.00000 1.00000 1.00000 1.00000]\n",
      " [1.00000 1.00000 1.00000 1.00000 1.00000 1.00829 1.00000 1.00000 1.00000 1.00000 1.00000]\n",
      " [1.00000 1.00000 1.00000 1.00000 1.00000 1.00000 1.21919 1.00000 1.00000 1.00000 1.00000]\n",
      " [1.00000 1.00000 1.00000 1.00000 1.00000 1.00000 1.00000 0.70575 1.00000 1.00000 1.00000]\n",
      " [1.00000 1.00000 1.00000 1.00000 1.00000 1.00000 1.00000 1.00000 0.83068 1.00000 1.00000]\n",
      " [1.00000 1.00000 1.00000 1.00000 1.00000 1.00000 1.00000 1.00000 1.00000 0.80946 1.00000]\n",
      " [1.00000 1.00000 1.00000 1.00000 1.00000 1.00000 1.00000 1.00000 1.00000 1.00000 1.17393]]\n"
     ]
    }
   ],
   "source": [
    "# J_dg matrix\n",
    "J = np.ones_like(Z)\n",
    "JZ_dg = np.copy(J)\n",
    "np.fill_diagonal(JZ_dg, np.diag(Z))\n",
    "print(f\"J_dg = \\n{JZ_dg}\")"
   ]
  },
  {
   "cell_type": "code",
   "execution_count": 15,
   "id": "a859cd7f",
   "metadata": {},
   "outputs": [
    {
     "name": "stdout",
     "output_type": "stream",
     "text": [
      "Mean first passage matrix Z = \n",
      "[[5.32100 106.23397 14.60717 17.73362 9.81000 4.79064 93.74960 9.15392 8.14258 9.46034 35.57853]\n",
      " [5.66540 106.91190 8.76592 21.60038 11.38779 5.60400 94.99338 9.96727 7.09855 12.31972 36.82231]\n",
      " [4.32882 108.72898 15.56705 20.19582 11.46271 3.72522 93.32263 8.08849 8.99684 11.95535 35.15156]\n",
      " [5.69239 109.92618 10.70853 20.12221 7.66130 4.08217 96.03228 8.44545 9.80683 13.15255 37.86121]\n",
      " [5.04557 109.11774 17.81244 21.45239 10.05008 2.45751 96.69307 6.82079 8.62224 12.34411 38.52199]\n",
      " [5.35439 108.96303 17.80200 21.67237 11.60239 4.60159 96.56515 4.32513 7.38876 12.18940 38.39408]\n",
      " [7.14013 111.28302 16.51535 18.22155 6.28723 4.97996 92.99140 9.34324 10.95212 14.50938 14.43756]\n",
      " [3.84275 107.37374 16.23687 20.14584 9.96449 5.94528 94.98034 7.96487 5.61875 10.60011 36.80927]\n",
      " [4.40493 106.50113 15.81082 20.43303 8.19384 5.08623 94.19066 9.44951 8.30939 9.72750 36.01958]\n",
      " [6.23090 98.95394 11.18088 20.46248 8.44887 4.73628 87.18517 9.09956 10.11903 11.44273 29.01409]\n",
      " [6.99832 111.19667 13.71429 13.90432 7.86687 5.17365 51.94092 9.53693 10.99482 14.42303 35.82032]]\n"
     ]
    }
   ],
   "source": [
    "# Mean first passage matrix Z\n",
    "E = (I - Z + JZ_dg) @ D\n",
    "print(f\"Mean first passage matrix Z = \\n{E}\")"
   ]
  },
  {
   "cell_type": "code",
   "execution_count": null,
   "id": "bb53a90e",
   "metadata": {},
   "outputs": [],
   "source": []
  },
  {
   "cell_type": "code",
   "execution_count": null,
   "id": "d277fa54",
   "metadata": {},
   "outputs": [],
   "source": []
  },
  {
   "cell_type": "code",
   "execution_count": null,
   "id": "ff9c33d6",
   "metadata": {},
   "outputs": [],
   "source": []
  },
  {
   "cell_type": "code",
   "execution_count": null,
   "id": "68c02e1a",
   "metadata": {},
   "outputs": [],
   "source": []
  }
 ],
 "metadata": {
  "kernelspec": {
   "display_name": "Python 3",
   "language": "python",
   "name": "python3"
  },
  "language_info": {
   "codemirror_mode": {
    "name": "ipython",
    "version": 3
   },
   "file_extension": ".py",
   "mimetype": "text/x-python",
   "name": "python",
   "nbconvert_exporter": "python",
   "pygments_lexer": "ipython3",
   "version": "3.7.10"
  }
 },
 "nbformat": 4,
 "nbformat_minor": 5
}
