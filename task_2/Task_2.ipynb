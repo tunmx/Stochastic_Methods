{
 "cells": [
  {
   "cell_type": "markdown",
   "id": "42cd93b9",
   "metadata": {},
   "source": [
    "# Task 2: Analysis of an ergodic Markov chain. Calculation of the steady-state vector of Markov chain by Cesàro summation\n",
    "\n",
    "**Task description**: The probability transaction matrix of an ergodic Markov chain is given.\n",
    "\n",
    "**Steps for Performing the Task:**\n",
    "1. Calculate the chain period $d$\n",
    "2. Find cyclic classes in which the chain is divided\n",
    "3. Find (approximately) steady-state vector of Markov chain by Cesàro summation\n",
    "\n",
    "**Student name:** Yan Jingyu"
   ]
  },
  {
   "cell_type": "markdown",
   "id": "c149f67e",
   "metadata": {},
   "source": [
    "## Solution\n",
    "\n",
    "I will use Python's Jupyter notebook to complete this task, in which I will use dependency libraries such as numpy and pandas."
   ]
  },
  {
   "cell_type": "markdown",
   "id": "b13e423e",
   "metadata": {},
   "source": [
    "### 0. Prepare Data\n",
    "\n",
    "Prepare my personal Markov chain probability transition matrix, Import the required libraries and read the transition matrix P."
   ]
  },
  {
   "cell_type": "code",
   "execution_count": 1,
   "id": "18e63210",
   "metadata": {},
   "outputs": [
    {
     "name": "stdout",
     "output_type": "stream",
     "text": [
      "My transition matrix P = \n",
      "[[0.00000 0.00000 0.12819 0.36008 0.00000 0.00000 0.00000 0.00000 0.15395 0.00000 0.35778 0.00000]\n",
      " [0.34321 0.00000 0.00000 0.00000 0.00000 0.65679 0.00000 0.00000 0.00000 0.00000 0.00000 0.00000]\n",
      " [0.00000 0.00000 0.00000 0.00000 0.00000 0.00000 0.35969 0.45478 0.00000 0.00000 0.00000 0.18553]\n",
      " [0.00000 0.00000 0.00000 0.00000 0.00000 0.00000 0.53366 0.46174 0.00000 0.00000 0.00000 0.00459]\n",
      " [0.35442 0.00000 0.00000 0.00000 0.00000 0.64558 0.00000 0.00000 0.00000 0.00000 0.00000 0.00000]\n",
      " [0.00000 0.00000 0.55971 0.05475 0.00000 0.00000 0.00000 0.00000 0.20515 0.00000 0.18039 0.00000]\n",
      " [0.00000 0.29669 0.00000 0.00000 0.49574 0.00000 0.00000 0.00000 0.00000 0.20757 0.00000 0.00000]\n",
      " [0.00000 0.60745 0.00000 0.00000 0.36487 0.00000 0.00000 0.00000 0.00000 0.02768 0.00000 0.00000]\n",
      " [0.00000 0.00000 0.00000 0.00000 0.00000 0.00000 0.31611 0.20304 0.00000 0.00000 0.00000 0.48085]\n",
      " [0.39972 0.00000 0.00000 0.00000 0.00000 0.60028 0.00000 0.00000 0.00000 0.00000 0.00000 0.00000]\n",
      " [0.00000 0.00000 0.00000 0.00000 0.00000 0.00000 0.00130 0.52081 0.00000 0.00000 0.00000 0.47790]\n",
      " [0.00000 0.12827 0.00000 0.00000 0.52640 0.00000 0.00000 0.00000 0.00000 0.34533 0.00000 0.00000]]\n"
     ]
    }
   ],
   "source": [
    "import numpy as np\n",
    "from numpy.linalg import matrix_power\n",
    "from math import gcd\n",
    "from functools import reduce\n",
    "import pandas as pd\n",
    "from tqdm import tqdm\n",
    "import matplotlib.pyplot as plt\n",
    "\n",
    "np.set_printoptions(linewidth=200, threshold=1000, suppress=True, formatter={'float': '{:0.5f}'.format})\n",
    "\n",
    "\n",
    "def get_my_transition_matrix(xlsx_file, my_name, num_rows=12, use_cols='C:N', ) -> np.ndarray:\n",
    "    \"\"\"\n",
    "    Read my personal transition matrix from an Excel (xlsx) file.\n",
    "    \"\"\"\n",
    "    df = pd.read_excel(xlsx_file)\n",
    "    row_index = df[df[df.columns[0]] == my_name].index\n",
    "    if row_index.empty:\n",
    "        raise FileNotFoundError(\n",
    "            \"transition matrix does not exist, please check the name is correct.\")\n",
    "\n",
    "    region = pd.read_excel(xlsx_file, usecols=use_cols, skiprows=row_index[0] + 1, nrows=num_rows)\n",
    "\n",
    "    return region.to_numpy()\n",
    "\n",
    "xlsx_filename = \"TaskWorksheets2.xlsx\"\n",
    "my_name = \"Yan Jingyu\"\n",
    "P = get_my_transition_matrix(xlsx_filename, my_name)\n",
    "print(f'My transition matrix P = \\n{P}')"
   ]
  },
  {
   "cell_type": "markdown",
   "id": "931ca983",
   "metadata": {},
   "source": [
    "### 1. Calculate the chain period $d$\n",
    "\n",
    "My probability transaction matrix has been read into memory and stored using P.\n",
    "\n",
    "For finding the chain period d and cyclic classes we begin moving from any state of the chain.\n",
    "\n",
    "Let the state 3 is starting. From the state 7, 8, 12 can be reached; from the states 7, 8, 12, states [2, 5, 10] are reachable. This moving can be listed in the following:\n",
    "- step.1 -> 3\n",
    "- step.2 -> 7, 8, 12\n",
    "- step.3 -> 2, 5, 10\n",
    "- step.4 -> 1, 6\n",
    "- step.5 -> 3, 4, 9, 11\n",
    "- step.6 -> 7, 8, 12\n",
    "- step.7 -> 2, 5, 10\n",
    "- step.9 -> 1, 6\n",
    "- step.10 -> .....\n",
    "\n",
    "It is obvious that $d$=4 and cyclic classes are $d$=4 and cyclic classes are $C_0=${$7, 8, 12$}, $C_1=${$2, 5, 10$}, $C_2=${$1, 6$}, $C_3=${$3, 4, 9, 11$}\n",
    "\n",
    "Transitions between classes: $C_0$ -> $C_1$ -> $C_2$ -> $C_3$ -> $C_0$ -> $C_1$ -> ...  "
   ]
  },
  {
   "cell_type": "markdown",
   "id": "695ef8d1",
   "metadata": {},
   "source": [
    "To verify the correctness of the period value obtained, we implement a function for this verification. The function will print out the cyclic classes based on the period."
   ]
  },
  {
   "cell_type": "code",
   "execution_count": 2,
   "id": "8e1fc71f",
   "metadata": {},
   "outputs": [
    {
     "name": "stdout",
     "output_type": "stream",
     "text": [
      "period d = 4\n"
     ]
    }
   ],
   "source": [
    "def compute_chain_period(transition_matrix):\n",
    "    n = transition_matrix.shape[0]  # Number of states\n",
    "    periods = []\n",
    "\n",
    "    for i in range(n):\n",
    "        state_periods = []\n",
    "        # Start with the square of the matrix to avoid trivial self-loop\n",
    "        for j in range(2, n * n):\n",
    "            # Raise the transition matrix to the j-th power\n",
    "            matrix_power_j = matrix_power(transition_matrix, j)\n",
    "            if matrix_power_j[i, i] > 0:\n",
    "                state_periods.append(j)\n",
    "                break  # Only need the first occurrence\n",
    "\n",
    "        # Compute all GCDs for the state i\n",
    "        if state_periods:\n",
    "            state_period = reduce(gcd, state_periods)\n",
    "            periods.append(state_period)\n",
    "\n",
    "    # Compute the GCD across all states to find the period d\n",
    "    chain_period = reduce(gcd, periods)\n",
    "    return chain_period\n",
    "\n",
    "d = compute_chain_period(P)\n",
    "assert d == 4\n",
    "print(f\"period d = {d}\")"
   ]
  },
  {
   "cell_type": "markdown",
   "id": "f4115968",
   "metadata": {},
   "source": [
    "So, I think that the period $d$ of the chain is 4."
   ]
  },
  {
   "cell_type": "markdown",
   "id": "941423e2",
   "metadata": {},
   "source": [
    "### 2. Find cyclic classes in which the chain is divided\n",
    "\n",
    "From the above calculation process, we have already learned that d=4 and the cyclic classes are $C_0=${$7, 8, 12$}, $C_1=${$2, 5, 10$}, $C_2=${$1, 6$}, $C_3=${$3, 4, 9, 11$}. \n",
    "\n",
    "We implement a function to verify whether this is correct. Consider using DFS."
   ]
  },
  {
   "cell_type": "code",
   "execution_count": 3,
   "id": "7891c5a9",
   "metadata": {
    "scrolled": true
   },
   "outputs": [
    {
     "name": "stdout",
     "output_type": "stream",
     "text": [
      "Start: 3\n",
      "When the expected number of loops is 3, the result is [[7, 8, 12], [2, 5, 10], [1, 6], [3, 4, 9, 11], [7, 8, 12], [2, 5, 10], [1, 6], [3, 4, 9, 11], [7, 8, 12], [2, 5, 10], [1, 6], [3, 4, 9, 11]]\n"
     ]
    }
   ],
   "source": [
    "def find_cycles_with_limit(matrix, start_row, loop_n=1):\n",
    "    \"\"\"\n",
    "    Find cycles starting from the given row by following non-zero indices, limited by loop_n.\n",
    "    \"\"\"\n",
    "\n",
    "    def get_nonzero_indices(row):\n",
    "        \"\"\"Get all indices with non-zero values in the given row.\"\"\"\n",
    "        return [i + 1 for i, value in enumerate(row) if value > 0]  # Convert to 1-indexed\n",
    "\n",
    "    visited_rows = set()  # Keep track of visited rows to detect a cycle\n",
    "    cycles = []  # Store the sequences of rows in cycles\n",
    "    current_row = start_row\n",
    "    loops_count = 0  # Count the number of complete loops\n",
    "    period = 0\n",
    "    while loops_count < loop_n:\n",
    "        if current_row in visited_rows:\n",
    "            # If the current row has already been visited, we've completed a loop\n",
    "            loops_count += 1\n",
    "            # If we've reached the desired number of loops, break the loop\n",
    "            if loops_count == loop_n:\n",
    "                period = len(visited_rows)\n",
    "                break\n",
    "            visited_rows.clear()  # Clear visited rows for the next loop\n",
    "\n",
    "        visited_rows.add(current_row)\n",
    "        row_indices = get_nonzero_indices(matrix[current_row - 1])  # Get non-zero indices of the current row\n",
    "        cycles.append(row_indices)  # Add the non-zero indices as a cycle\n",
    "        if not row_indices:  # If no non-zero indices, break the loop\n",
    "            break\n",
    "        current_row = row_indices[0]  # Continue with the first non-zero index\n",
    "\n",
    "    return cycles, period\n",
    "\n",
    "start = 3\n",
    "loop_n = 3\n",
    "cycles_result, period = find_cycles_with_limit(P, start, loop_n=loop_n)\n",
    "print(f\"Start: {start}\")\n",
    "print(f'When the expected number of loops is {loop_n}, the result is {cycles_result}')"
   ]
  },
  {
   "cell_type": "code",
   "execution_count": 4,
   "id": "97b21189",
   "metadata": {},
   "outputs": [
    {
     "name": "stdout",
     "output_type": "stream",
     "text": [
      "C0 = [7, 8, 12]\n",
      "C1 = [2, 5, 10]\n",
      "C2 = [1, 6]\n",
      "C3 = [3, 4, 9, 11]\n"
     ]
    }
   ],
   "source": [
    "cyclic_classes = cycles_result[:period]\n",
    "for i, cycle in enumerate(cyclic_classes):\n",
    "    print(f\"C{i} = {cycle}\")"
   ]
  },
  {
   "cell_type": "code",
   "execution_count": 5,
   "id": "aa873f85",
   "metadata": {},
   "outputs": [],
   "source": [
    "# Check\n",
    "combined_set = set()\n",
    "for sublist in cyclic_classes:\n",
    "    combined_set.update(sublist)\n",
    "\n",
    "square_matrix_size = P.shape[0]\n",
    "\n",
    "assert set(list(range(1, square_matrix_size+1)))\n",
    "assert len(combined_set) == square_matrix_size"
   ]
  },
  {
   "cell_type": "markdown",
   "id": "9d696e41",
   "metadata": {},
   "source": [
    "### 3. Find (approximately) steady-state vector of Markov chain by Cesàro summation"
   ]
  },
  {
   "cell_type": "markdown",
   "id": "0eb9a801",
   "metadata": {},
   "source": [
    "The limiting matrix $A$ can be found as the limit $A(t) = \\frac{1}{t} \\sum_{i=0}^{t-1} P^i $ when $ t \\rightarrow \\infty $ (summation by Cesàro). The number $ t $ should be enough large.\n"
   ]
  },
  {
   "cell_type": "code",
   "execution_count": 6,
   "id": "035dd972",
   "metadata": {},
   "outputs": [
    {
     "name": "stdout",
     "output_type": "stream",
     "text": [
      "My transition matrix P = \n",
      "[[0.00000 0.00000 0.12819 0.36008 0.00000 0.00000 0.00000 0.00000 0.15395 0.00000 0.35778 0.00000]\n",
      " [0.34321 0.00000 0.00000 0.00000 0.00000 0.65679 0.00000 0.00000 0.00000 0.00000 0.00000 0.00000]\n",
      " [0.00000 0.00000 0.00000 0.00000 0.00000 0.00000 0.35969 0.45478 0.00000 0.00000 0.00000 0.18553]\n",
      " [0.00000 0.00000 0.00000 0.00000 0.00000 0.00000 0.53366 0.46174 0.00000 0.00000 0.00000 0.00459]\n",
      " [0.35442 0.00000 0.00000 0.00000 0.00000 0.64558 0.00000 0.00000 0.00000 0.00000 0.00000 0.00000]\n",
      " [0.00000 0.00000 0.55971 0.05475 0.00000 0.00000 0.00000 0.00000 0.20515 0.00000 0.18039 0.00000]\n",
      " [0.00000 0.29669 0.00000 0.00000 0.49574 0.00000 0.00000 0.00000 0.00000 0.20757 0.00000 0.00000]\n",
      " [0.00000 0.60745 0.00000 0.00000 0.36487 0.00000 0.00000 0.00000 0.00000 0.02768 0.00000 0.00000]\n",
      " [0.00000 0.00000 0.00000 0.00000 0.00000 0.00000 0.31611 0.20304 0.00000 0.00000 0.00000 0.48085]\n",
      " [0.39972 0.00000 0.00000 0.00000 0.00000 0.60028 0.00000 0.00000 0.00000 0.00000 0.00000 0.00000]\n",
      " [0.00000 0.00000 0.00000 0.00000 0.00000 0.00000 0.00130 0.52081 0.00000 0.00000 0.00000 0.47790]\n",
      " [0.00000 0.12827 0.00000 0.00000 0.52640 0.00000 0.00000 0.00000 0.00000 0.34533 0.00000 0.00000]]\n"
     ]
    }
   ],
   "source": [
    "print(f'My transition matrix P = \\n{P}')"
   ]
  },
  {
   "cell_type": "markdown",
   "id": "d57ea10e",
   "metadata": {},
   "source": [
    "We have implemented the FindSteadyStateVector class, which employs the Cesàro summation to approximate the steady state vector of a Markov chain.  It iteratively calculates the powers of the transition matrix, averages them, and assesses convergence by comparing the Euclidean distance between successive averages.  As iterations progress, differences between rows should diminish, indicating the approach towards a steady state."
   ]
  },
  {
   "cell_type": "code",
   "execution_count": 7,
   "id": "b957ccb6",
   "metadata": {},
   "outputs": [],
   "source": [
    "import numpy as np\n",
    "from numpy.linalg import matrix_power\n",
    "import pandas as pd\n",
    "from tqdm import tqdm\n",
    "import matplotlib.pyplot as plt\n",
    "\n",
    "np.set_printoptions(linewidth=200, threshold=1000, suppress=True, formatter={'float': '{:0.5f}'.format})\n",
    "\n",
    "\n",
    "class FindSteadyStateVector(object):\n",
    "    \"\"\"\n",
    "    A class to find the limiting matrix or steady state vector of a Markov chain using the Cesàro summation method.\n",
    "    It takes a transition matrix and computes the Cesàro mean of the matrix up to a specified max power.\n",
    "    \"\"\"\n",
    "\n",
    "    def __init__(self, transaction_matrix: np.ndarray, max_power: int):\n",
    "        self.P = transaction_matrix.copy()\n",
    "        self.max_power = max_power\n",
    "        self.loss_func = self.max_euclidean_distance\n",
    "        self.loss_from_total_steps = None\n",
    "        self.A = None\n",
    "\n",
    "    def fitting(self):\n",
    "        \"\"\"\n",
    "        Executes the Cesàro summation and computes the loss at each step, where the loss is the maximum\n",
    "        Euclidean distance between the rows of the summation matrix.\n",
    "        \"\"\"\n",
    "        ts = range(1, self.max_power + 1)\n",
    "        self.loss_from_total_steps = list()\n",
    "        print(\"Running Cesàro summation and loss calculation...\")\n",
    "        with tqdm(total=self.max_power, desc='Calculating', unit='step') as pbar:\n",
    "            for t in ts:\n",
    "                self.A = self.cesaro_summation(self.P, t)\n",
    "                loss = self.loss_func(self.A)\n",
    "                self.loss_from_total_steps.append(loss)\n",
    "                pbar.update(1)  # Update the progress bar\n",
    "                pbar.set_postfix(Loss=f\"{loss:.6f}\")  # Display additional information\n",
    "\n",
    "        print(\"Calculation completed.\")\n",
    "\n",
    "    def plot_loss(self):\n",
    "        \"\"\"\n",
    "        Plots the loss over the steps of Cesàro summation to visualize the convergence of the steady state vector.\n",
    "        \"\"\"\n",
    "        plt.figure(figsize=(10, 6))\n",
    "        plt.plot(self.loss_from_total_steps, 'b-', label='Loss')\n",
    "        plt.xlabel('Step')\n",
    "        plt.ylabel('Loss')\n",
    "        plt.title('Loss over Cesàro Summation Steps')\n",
    "        plt.grid(True)\n",
    "        plt.legend()\n",
    "        plt.show()\n",
    "\n",
    "    @staticmethod\n",
    "    def cesaro_summation(transition_matrix, t):\n",
    "        \"\"\"\n",
    "        Computes the Cesàro summation of the transition matrix up to the power t.\n",
    "        \"\"\"\n",
    "        powers = [matrix_power(transition_matrix, n) for n in range(t)]\n",
    "        powers_stack = np.stack(powers)\n",
    "        cesaro_mean = np.mean(powers_stack, axis=0)\n",
    "        return cesaro_mean\n",
    "\n",
    "    @staticmethod\n",
    "    def max_euclidean_distance(matrix):\n",
    "        \"\"\"\n",
    "        Computes the maximum Euclidean distance between any two rows of a matrix.\n",
    "        \"\"\"\n",
    "        # Initialize the maximum distance as zero\n",
    "        max_dist = 0\n",
    "        # Get the number of rows in the matrix\n",
    "        num_rows = matrix.shape[0]\n",
    "\n",
    "        # Compute the Euclidean distance between each pair of different rows and find the maximum\n",
    "        for i in range(num_rows):\n",
    "            for j in range(i + 1, num_rows):  # Only compare different rows to avoid redundant computations\n",
    "                # Compute the Euclidean distance between row i and row j\n",
    "                l2_norm = np.linalg.norm(matrix[i] - matrix[j])\n",
    "                # Update the maximum distance\n",
    "                max_dist = max(max_dist, l2_norm)\n",
    "\n",
    "        return max_dist"
   ]
  },
  {
   "cell_type": "markdown",
   "id": "5139cc3c",
   "metadata": {},
   "source": [
    "\n",
    "We will begin the iteration process, setting $t$ to 700, which means that the transition matrix $P$ will be raised to the 700th power. This also entails carrying out 700 iterations and calculating the loss at each step."
   ]
  },
  {
   "cell_type": "code",
   "execution_count": 8,
   "id": "902ad600",
   "metadata": {
    "scrolled": false
   },
   "outputs": [
    {
     "name": "stdout",
     "output_type": "stream",
     "text": [
      "Running Cesàro summation and loss calculation...\n"
     ]
    },
    {
     "name": "stderr",
     "output_type": "stream",
     "text": [
      "Calculating: 100%|██████████████████████████████████████████████████████████████████████████████████████████████████████| 700/700 [00:14<00:00, 46.92step/s, Loss=0.002299]"
     ]
    },
    {
     "name": "stdout",
     "output_type": "stream",
     "text": [
      "Calculation completed.\n"
     ]
    },
    {
     "name": "stderr",
     "output_type": "stream",
     "text": [
      "\n"
     ]
    }
   ],
   "source": [
    "# Set t = 700\n",
    "t = 700\n",
    "# Instantiating\n",
    "finder = FindSteadyStateVector(P, t)\n",
    "\n",
    "# Start iterating\n",
    "finder.fitting()"
   ]
  },
  {
   "cell_type": "markdown",
   "id": "18e891ce",
   "metadata": {},
   "source": [
    "The limiting matrix $A$ for t = 700:"
   ]
  },
  {
   "cell_type": "code",
   "execution_count": 9,
   "id": "ca2e80c4",
   "metadata": {},
   "outputs": [
    {
     "name": "stdout",
     "output_type": "stream",
     "text": [
      "The limiting matrix A(700) = \n",
      "[[0.09038 0.09531 0.10093 0.04128 0.11219 0.15962 0.07316 0.10627 0.04666 0.04250 0.06113 0.07056]\n",
      " [0.08944 0.09619 0.10133 0.04100 0.11155 0.16056 0.07317 0.10625 0.04671 0.04226 0.06096 0.07058]\n",
      " [0.08946 0.09534 0.10217 0.04077 0.11218 0.16054 0.07327 0.10629 0.04644 0.04248 0.06062 0.07044]\n",
      " [0.08946 0.09539 0.10075 0.04220 0.11218 0.16054 0.07351 0.10630 0.04644 0.04244 0.06062 0.07018]\n",
      " [0.08946 0.09476 0.10133 0.04100 0.11298 0.16054 0.07317 0.10625 0.04671 0.04226 0.06097 0.07058]\n",
      " [0.08895 0.09530 0.10154 0.04085 0.11220 0.16105 0.07317 0.10623 0.04673 0.04251 0.06088 0.07059]\n",
      " [0.08947 0.09518 0.10132 0.04100 0.11226 0.16053 0.07418 0.10564 0.04671 0.04256 0.06097 0.07018]\n",
      " [0.08945 0.09563 0.10133 0.04100 0.11207 0.16055 0.07275 0.10707 0.04671 0.04230 0.06097 0.07018]\n",
      " [0.08947 0.09516 0.10074 0.04077 0.11224 0.16053 0.07320 0.10593 0.04787 0.04260 0.06062 0.07087]\n",
      " [0.08952 0.09476 0.10130 0.04102 0.11155 0.16048 0.07317 0.10625 0.04670 0.04369 0.06098 0.07058]\n",
      " [0.08946 0.09530 0.10074 0.04077 0.11218 0.16054 0.07275 0.10639 0.04644 0.04252 0.06205 0.07086]\n",
      " [0.08948 0.09494 0.10132 0.04101 0.11231 0.16052 0.07275 0.10564 0.04671 0.04275 0.06097 0.07161]]\n",
      "\n",
      "The final loss = 0.002298541379180601\n"
     ]
    }
   ],
   "source": [
    "# Print the A\n",
    "A = finder.A\n",
    "final_loss = finder.loss_from_total_steps[-1]\n",
    "print(f\"The limiting matrix A({t}) = \\n{A}\\n\")\n",
    "print(f\"The final loss = {final_loss}\")"
   ]
  },
  {
   "cell_type": "code",
   "execution_count": 10,
   "id": "c1c67238",
   "metadata": {},
   "outputs": [
    {
     "data": {
      "image/png": "[encoded data removed]",
      "text/plain": [
       "<Figure size 720x432 with 1 Axes>"
      ]
     },
     "metadata": {
      "needs_background": "light"
     },
     "output_type": "display_data"
    }
   ],
   "source": [
    "# draw the loss curve\n",
    "finder.plot_loss()"
   ]
  },
  {
   "cell_type": "markdown",
   "id": "453102cd",
   "metadata": {},
   "source": [
    "**Conclusion:** Using the Cesàro summation method to calculate the limit matrix of the Markov chain, we observe a rapid decline in the loss values which then stabilize, indicating that the algorithm has successfully converged to a steady state."
   ]
  },
  {
   "cell_type": "code",
   "execution_count": null,
   "id": "a9a48ae4",
   "metadata": {},
   "outputs": [],
   "source": []
  }
 ],
 "metadata": {
  "kernelspec": {
   "display_name": "Python 3",
   "language": "python",
   "name": "python3"
  },
  "language_info": {
   "codemirror_mode": {
    "name": "ipython",
    "version": 3
   },
   "file_extension": ".py",
   "mimetype": "text/x-python",
   "name": "python",
   "nbconvert_exporter": "python",
   "pygments_lexer": "ipython3",
   "version": "3.7.10"
  }
 },
 "nbformat": 4,
 "nbformat_minor": 5
}
